{
 "cells": [
  {
   "cell_type": "markdown",
   "id": "f400db54",
   "metadata": {},
   "source": [
    "# Apuntes de Lógica\n",
    "---\n",
    "## Formas Normales Conjuntivas"
   ]
  },
  {
   "cell_type": "markdown",
   "id": "21c56eb9",
   "metadata": {},
   "source": [
    "La primera tarea a realizar será instalar la librería Python para manejo de Tablas de Verdad"
   ]
  },
  {
   "cell_type": "code",
   "execution_count": 19,
   "id": "7ca268f9",
   "metadata": {
    "scrolled": true
   },
   "outputs": [
    {
     "name": "stdout",
     "output_type": "stream",
     "text": [
      "Requirement already satisfied: truth-table-generator in c:\\users\\chapu\\appdata\\local\\programs\\python\\python311\\lib\\site-packages (1.1.2)\n",
      "Requirement already satisfied: numpy in c:\\users\\chapu\\appdata\\local\\programs\\python\\python311\\lib\\site-packages (from truth-table-generator) (1.23.4)\n",
      "Requirement already satisfied: pandas in c:\\users\\chapu\\appdata\\local\\programs\\python\\python311\\lib\\site-packages (from truth-table-generator) (1.5.1)\n",
      "Requirement already satisfied: PTable in c:\\users\\chapu\\appdata\\local\\programs\\python\\python311\\lib\\site-packages (from truth-table-generator) (0.9.2)\n",
      "Requirement already satisfied: pyparsing in c:\\users\\chapu\\appdata\\local\\programs\\python\\python311\\lib\\site-packages (from truth-table-generator) (3.0.9)\n",
      "Requirement already satisfied: tabulate in c:\\users\\chapu\\appdata\\local\\programs\\python\\python311\\lib\\site-packages (from truth-table-generator) (0.9.0)\n",
      "Requirement already satisfied: jinja2 in c:\\users\\chapu\\appdata\\local\\programs\\python\\python311\\lib\\site-packages (from truth-table-generator) (3.1.2)\n",
      "Requirement already satisfied: MarkupSafe>=2.0 in c:\\users\\chapu\\appdata\\local\\programs\\python\\python311\\lib\\site-packages (from jinja2->truth-table-generator) (2.1.1)\n",
      "Requirement already satisfied: python-dateutil>=2.8.1 in c:\\users\\chapu\\appdata\\local\\programs\\python\\python311\\lib\\site-packages (from pandas->truth-table-generator) (2.8.2)\n",
      "Requirement already satisfied: pytz>=2020.1 in c:\\users\\chapu\\appdata\\local\\programs\\python\\python311\\lib\\site-packages (from pandas->truth-table-generator) (2022.6)\n",
      "Requirement already satisfied: six>=1.5 in c:\\users\\chapu\\appdata\\local\\programs\\python\\python311\\lib\\site-packages (from python-dateutil>=2.8.1->pandas->truth-table-generator) (1.16.0)\n",
      "Note: you may need to restart the kernel to use updated packages.\n"
     ]
    }
   ],
   "source": [
    "pip install truth-table-generator"
   ]
  },
  {
   "cell_type": "markdown",
   "id": "c7aa69b1",
   "metadata": {},
   "source": [
    "A continuación importamos de dicha librería la función necesaria para elaborar tablas de verdad"
   ]
  },
  {
   "cell_type": "code",
   "execution_count": 20,
   "id": "f4d6ccf7",
   "metadata": {},
   "outputs": [],
   "source": [
    "from ttg import Truths"
   ]
  },
  {
   "cell_type": "markdown",
   "id": "b0e15a45",
   "metadata": {},
   "source": [
    "Comprobamos que las tablas de verdad se generan correctamente"
   ]
  },
  {
   "cell_type": "code",
   "execution_count": 21,
   "id": "779dc77f",
   "metadata": {},
   "outputs": [
    {
     "name": "stdout",
     "output_type": "stream",
     "text": [
      "+-----+-----+-----+\n",
      "|  p  |  q  |  r  |\n",
      "|-----+-----+-----|\n",
      "|  1  |  1  |  1  |\n",
      "|  1  |  1  |  0  |\n",
      "|  1  |  0  |  1  |\n",
      "|  1  |  0  |  0  |\n",
      "|  0  |  1  |  1  |\n",
      "|  0  |  1  |  0  |\n",
      "|  0  |  0  |  1  |\n",
      "|  0  |  0  |  0  |\n",
      "+-----+-----+-----+\n"
     ]
    }
   ],
   "source": [
    "print(Truths(['p','q','r'], ints=False))"
   ]
  },
  {
   "cell_type": "markdown",
   "id": "8c56a729",
   "metadata": {},
   "source": [
    "Y probamos un ejemplo real"
   ]
  },
  {
   "cell_type": "code",
   "execution_count": 22,
   "id": "6cbb21a3",
   "metadata": {},
   "outputs": [
    {
     "name": "stdout",
     "output_type": "stream",
     "text": [
      "+-----+-----+-----------+----------+-----------------------+\n",
      "|  p  |  q  |  p and q  |  p or q  |  (p or (~q)) => (~p)  |\n",
      "|-----+-----+-----------+----------+-----------------------|\n",
      "|  1  |  1  |     1     |    1     |           0           |\n",
      "|  1  |  0  |     0     |    1     |           0           |\n",
      "|  0  |  1  |     0     |    1     |           1           |\n",
      "|  0  |  0  |     0     |    0     |           1           |\n",
      "+-----+-----+-----------+----------+-----------------------+\n"
     ]
    }
   ],
   "source": [
    "print(Truths(['p', 'q'], ['p and q', 'p or q', '(p or (~q)) => (~p)'], ints=False))"
   ]
  },
  {
   "cell_type": "markdown",
   "id": "ece57407",
   "metadata": {},
   "source": [
    "El siguiente paso será instalar la librería Python para el cálculo de FNC"
   ]
  },
  {
   "cell_type": "code",
   "execution_count": 23,
   "id": "bdd1ade7",
   "metadata": {},
   "outputs": [
    {
     "name": "stdout",
     "output_type": "stream",
     "text": [
      "Requirement already satisfied: sympy in c:\\users\\chapu\\appdata\\local\\programs\\python\\python311\\lib\\site-packages (1.11.1)\n",
      "Requirement already satisfied: mpmath>=0.19 in c:\\users\\chapu\\appdata\\local\\programs\\python\\python311\\lib\\site-packages (from sympy) (1.2.1)\n",
      "Note: you may need to restart the kernel to use updated packages.\n"
     ]
    }
   ],
   "source": [
    "pip install sympy"
   ]
  },
  {
   "cell_type": "markdown",
   "id": "4254bb21",
   "metadata": {},
   "source": [
    "Y las importaciones necesarias de las funciones a utilizar"
   ]
  },
  {
   "cell_type": "code",
   "execution_count": 24,
   "id": "d09b25b3",
   "metadata": {},
   "outputs": [],
   "source": [
    "from sympy.logic.boolalg import to_cnf\n",
    "from sympy.abc import A, B, C, D"
   ]
  },
  {
   "cell_type": "markdown",
   "id": "0f7871ea",
   "metadata": {},
   "source": [
    "Antes de realizar el cálculo recordamos como se realiza la operación mediante un sencillo video"
   ]
  },
  {
   "cell_type": "code",
   "execution_count": 2,
   "id": "3e8b1945",
   "metadata": {},
   "outputs": [
    {
     "data": {
      "image/jpeg": "[encoded data removed]",
      "text/html": [
       "\n",
       "        <iframe\n",
       "            width=\"400\"\n",
       "            height=\"300\"\n",
       "            src=\"https://www.youtube.com/embed/Tw3cFBdI9t0\"\n",
       "            frameborder=\"0\"\n",
       "            allowfullscreen\n",
       "            \n",
       "        ></iframe>\n",
       "        "
      ],
      "text/plain": [
       "<IPython.lib.display.YouTubeVideo at 0x21124f395d0>"
      ]
     },
     "execution_count": 2,
     "metadata": {},
     "output_type": "execute_result"
    }
   ],
   "source": [
    "from IPython.display import YouTubeVideo\n",
    "YouTubeVideo('Tw3cFBdI9t0')"
   ]
  },
  {
   "cell_type": "markdown",
   "id": "68508bc6",
   "metadata": {},
   "source": [
    "Probamos un ejemplo sencillo"
   ]
  },
  {
   "cell_type": "code",
   "execution_count": 25,
   "id": "0f747cfc",
   "metadata": {},
   "outputs": [
    {
     "data": {
      "text/latex": [
       "$\\displaystyle A \\vee B$"
      ],
      "text/plain": [
       "A | B"
      ]
     },
     "execution_count": 25,
     "metadata": {},
     "output_type": "execute_result"
    }
   ],
   "source": [
    "to_cnf((A | B) & (A | ~A), True)"
   ]
  },
  {
   "cell_type": "markdown",
   "id": "be5db4d3",
   "metadata": {},
   "source": [
    "Y a partir de aquí podemos probar cualquier ejercicio propuesto de cálculo de Formas Normales Conjuntivas"
   ]
  },
  {
   "cell_type": "markdown",
   "id": "d0a2bd88",
   "metadata": {},
   "source": [
    "* Por ejemplo, calcula la Forma Normal Conjuntiva de la fórmula $(\\neg (A \\rightarrow B) \\rightarrow (A \\vee C)) \\wedge ( (A \\vee C) \\rightarrow \\neg(A \\rightarrow B))$"
   ]
  },
  {
   "cell_type": "code",
   "execution_count": 27,
   "id": "a92c373a",
   "metadata": {},
   "outputs": [
    {
     "data": {
      "text/latex": [
       "$\\displaystyle \\left(A \\vee \\neg C\\right) \\wedge \\left(\\neg A \\vee \\neg B\\right)$"
      ],
      "text/plain": [
       "(A | ~C) & (~A | ~B)"
      ]
     },
     "execution_count": 27,
     "metadata": {},
     "output_type": "execute_result"
    }
   ],
   "source": [
    "to_cnf((~ (A >> B) >> (A | C)) & ( (A | C) >> ~(A >> B)), True)"
   ]
  },
  {
   "cell_type": "markdown",
   "id": "f156fcb0",
   "metadata": {},
   "source": [
    "Finalmente, calculamos la tabla de verdad de la fórmula reducida"
   ]
  },
  {
   "cell_type": "code",
   "execution_count": null,
   "id": "1f1e73b5",
   "metadata": {},
   "outputs": [],
   "source": [
    "print(Truths(['A', 'B', 'C'], ['(A or ~C) and ()', 'p or q', '(p or (~q)) => (~p)'], ints=False))"
   ]
  }
 ],
 "metadata": {
  "kernelspec": {
   "display_name": "Python 3 (ipykernel)",
   "language": "python",
   "name": "python3"
  },
  "language_info": {
   "codemirror_mode": {
    "name": "ipython",
    "version": 3
   },
   "file_extension": ".py",
   "mimetype": "text/x-python",
   "name": "python",
   "nbconvert_exporter": "python",
   "pygments_lexer": "ipython3",
   "version": "3.11.0"
  }
 },
 "nbformat": 4,
 "nbformat_minor": 5
}
